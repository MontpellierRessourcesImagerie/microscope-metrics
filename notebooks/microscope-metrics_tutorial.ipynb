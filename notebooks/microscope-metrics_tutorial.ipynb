{
 "cells": [
  {
   "cell_type": "markdown",
   "metadata": {
    "pycharm": {
     "name": "#%% md\n"
    }
   },
   "source": [
    "## This is a tutorial to demonstrate the basic functionalities of microscope-metrics\n",
    "\n",
    "microscope-metrics is organized around the different types of samples. Samples are different types of standard samples that are imaged, under specific conditions to obtain information about the performance of the micrsocope. A sample may have different ways to be imaged and, therefore, analyzed.\n",
    "\n",
    "Argolight slides contain a number of differet engraved fluorescent patterns that may be imaged. One of those patterns, the pattern E, contains lines that are separated by an increasing distance. The idea is to walk along those lines and, when you are able to separate them, that distance actually corresponds to the resolution power of your microscope. Neat, eh!\n",
    "\n",
    "Well. Those lines may be oriented along the X axis, to measure the resolution in Y, of viceversa in Y to meassure the resolution in X.\n",
    "\n",
    "Let's say we have an Arolight slide where we have imaged that pattern. First we have to import the specific analysis from the Argolight sample and instantiate it."
   ]
  },
  {
   "cell_type": "code",
   "execution_count": null,
   "metadata": {
    "pycharm": {
     "name": "#%%\n"
    }
   },
   "outputs": [],
   "source": [
    "from microscopemetrics.samples.argolight import ArgolightEAnalysis\n",
    "\n",
    "my_argolight_analysis = ArgolightEAnalysis()"
   ]
  },
  {
   "cell_type": "markdown",
   "metadata": {
    "pycharm": {
     "name": "#%% md\n"
    }
   },
   "source": [
    "Now we have to start to feed some data to our analysis. There are two types of data that the analysis requires. \n",
    "1. The actual intensity measurements from the microscope, that is the image, and \n",
    "2. the metadata. Some exptra information that the analysis needs in order to do a good job.\n",
    "\n",
    "### Feeding data\n",
    "\n",
    "Let's start feeding the data. The data is the image of the lines. This image must be fed as a numpy array with the dimensions in the order Z, C, T, Y, X. We happen to have one. Let's read it.\n",
    "\n",
    "We will need to import Numpy to read the image"
   ]
  },
  {
   "cell_type": "code",
   "execution_count": null,
   "metadata": {
    "pycharm": {
     "name": "#%%\n"
    }
   },
   "outputs": [],
   "source": [
    "import numpy as np\n",
    "\n",
    "image = np.load('../tests/data/201702_RI510_Argolight-1-1_004_SIR_ALX.npy')\n",
    "image.shape"
   ]
  },
  {
   "cell_type": "markdown",
   "metadata": {
    "pycharm": {
     "name": "#%% md\n"
    }
   },
   "source": [
    "We can see that eh image has 26 planes in Z, 4 channels and is 1024 by 1024 in X and Y. \n",
    "\n",
    "So how does the image look like. We don't really have to look at it, but it is beautiful. Right?"
   ]
  },
  {
   "cell_type": "code",
   "execution_count": null,
   "metadata": {
    "pycharm": {
     "name": "#%%\n"
    }
   },
   "outputs": [],
   "source": [
    "import matplotlib.pyplot as plt\n",
    "\n",
    "imgplot = plt.imshow(image[12,3, 0,...])"
   ]
  },
  {
   "cell_type": "markdown",
   "metadata": {
    "pycharm": {
     "name": "#%% md\n"
    }
   },
   "source": [
    "So we can see those lines now. In fact, the lines are actually double, like little tubes. You can see how they are closed at the ends. What we are actually interested in is the distances between the edges of the adyacent 'tubes'.\n",
    "\n",
    "So let's give this image now to our analysis. \n",
    "\n",
    "### Feeding data\n",
    "There are two types of \"things\" that we are going to feed our analysis. \n",
    "- Data, the actual image data and \n",
    "- Metadata, all the rest of the information necesary for the analysis\n",
    "\n",
    "So lets see what kind of data we need\n",
    "The input data has to be in the form of a dictionary with the name of the image and the image itself."
   ]
  },
  {
   "cell_type": "code",
   "execution_count": null,
   "metadata": {
    "pycharm": {
     "name": "#%%\n"
    }
   },
   "outputs": [],
   "source": [
    "my_argolight_analysis.describe_requirements()"
   ]
  },
  {
   "cell_type": "markdown",
   "metadata": {
    "pycharm": {
     "name": "#%% md\n"
    }
   },
   "source": [
    "For what is the data, we require the actual image that has to be named 'argolight_e'. We feed the data using set_data"
   ]
  },
  {
   "cell_type": "code",
   "execution_count": null,
   "metadata": {
    "pycharm": {
     "name": "#%%\n"
    }
   },
   "outputs": [],
   "source": [
    "my_argolight_analysis.set_data('argolight_e', image)"
   ]
  },
  {
   "cell_type": "markdown",
   "metadata": {
    "pycharm": {
     "name": "#%% md\n"
    }
   },
   "source": [
    "That's all for the data\n",
    "\n",
    "### Feeding metadata\n",
    "Now we need to provide some metadata for the analysis to run. How do we know this? Well, because if you try to run the analysis it is going to complain to you. Look what happens. Don't worry about how to run the analysis, we will go into that later on."
   ]
  },
  {
   "cell_type": "code",
   "execution_count": null,
   "metadata": {
    "pycharm": {
     "name": "#%%\n"
    }
   },
   "outputs": [],
   "source": [
    "my_argolight_analysis.run()"
   ]
  },
  {
   "cell_type": "markdown",
   "metadata": {
    "pycharm": {
     "name": "#%% md\n"
    }
   },
   "source": [
    "You see? It complains and it returns False. So to say that the analysis did not run.\n",
    "\n",
    "Let's ask now to the analysis what it needs"
   ]
  },
  {
   "cell_type": "code",
   "execution_count": null,
   "metadata": {
    "pycharm": {
     "name": "#%%\n"
    }
   },
   "outputs": [],
   "source": [
    "my_argolight_analysis.describe_requirements()"
   ]
  },
  {
   "cell_type": "markdown",
   "metadata": {
    "pycharm": {
     "name": "#%% md\n"
    }
   },
   "source": [
    "You see that the argolight_ data is filled and that it needs to know three things, for which one is optional.\n",
    "\n",
    "Let's say we want to provide the pixel size. Let's check the units and feed the values with the method set_metadata"
   ]
  },
  {
   "cell_type": "code",
   "execution_count": null,
   "metadata": {
    "pycharm": {
     "name": "#%%\n"
    }
   },
   "outputs": [],
   "source": [
    "my_argolight_analysis.set_metadata('pixel_size', (.125, .039, .039))"
   ]
  },
  {
   "cell_type": "markdown",
   "metadata": {
    "pycharm": {
     "name": "#%% md\n"
    }
   },
   "source": [
    "Let's verify now that that parameter is set properly"
   ]
  },
  {
   "cell_type": "code",
   "execution_count": null,
   "metadata": {
    "pycharm": {
     "name": "#%%\n"
    }
   },
   "outputs": [],
   "source": [
    "my_argolight_analysis.get_metadata_values('pixel_size')"
   ]
  },
  {
   "cell_type": "markdown",
   "metadata": {
    "pycharm": {
     "name": "#%% md\n"
    }
   },
   "source": [
    "And we can verify again the units"
   ]
  },
  {
   "cell_type": "code",
   "execution_count": null,
   "metadata": {
    "pycharm": {
     "name": "#%%\n"
    }
   },
   "outputs": [],
   "source": [
    "my_argolight_analysis.get_metadata_units('pixel_size')"
   ]
  },
  {
   "cell_type": "markdown",
   "metadata": {
    "pycharm": {
     "name": "#%% md\n"
    }
   },
   "source": [
    "Are we set now? how can we check if we are ok to run the analysis?"
   ]
  },
  {
   "cell_type": "code",
   "execution_count": null,
   "metadata": {
    "pycharm": {
     "name": "#%%\n"
    }
   },
   "outputs": [],
   "source": [
    "my_argolight_analysis.validate_requirements()"
   ]
  },
  {
   "cell_type": "markdown",
   "metadata": {
    "pycharm": {
     "name": "#%% md\n"
    }
   },
   "source": [
    "It seeme we forgot something... but what?"
   ]
  },
  {
   "cell_type": "code",
   "execution_count": null,
   "metadata": {
    "pycharm": {
     "name": "#%%\n"
    }
   },
   "outputs": [],
   "source": [
    "my_argolight_analysis.list_unmet_requirements()"
   ]
  },
  {
   "cell_type": "markdown",
   "metadata": {
    "pycharm": {
     "name": "#%% md\n"
    }
   },
   "source": [
    "Ah, yes! If we look back into the description we can see that this is abou the orientation of the lines. We might do this automatically one day, but for the moment we have to tell the analysis that the lines are vertical, that is we meassure the resolution in X, so value=2"
   ]
  },
  {
   "cell_type": "code",
   "execution_count": null,
   "metadata": {
    "pycharm": {
     "name": "#%%\n"
    }
   },
   "outputs": [],
   "source": [
    "my_argolight_analysis.set_metadata('axis', 1)"
   ]
  },
  {
   "cell_type": "markdown",
   "metadata": {
    "pycharm": {
     "name": "#%% md\n"
    }
   },
   "source": [
    "Are we good now?"
   ]
  },
  {
   "cell_type": "code",
   "execution_count": null,
   "metadata": {
    "pycharm": {
     "name": "#%%\n"
    }
   },
   "outputs": [],
   "source": [
    "my_argolight_analysis.validate_requirements()"
   ]
  },
  {
   "cell_type": "markdown",
   "metadata": {
    "pycharm": {
     "name": "#%% md\n"
    }
   },
   "source": [
    "Congratulations!\n",
    "\n",
    "### Running the analysis\n",
    "\n",
    "You are ready to run the analysis. You can do that through the run method."
   ]
  },
  {
   "cell_type": "code",
   "execution_count": null,
   "metadata": {
    "pycharm": {
     "name": "#%%\n"
    }
   },
   "outputs": [],
   "source": [
    "my_argolight_analysis.run()"
   ]
  },
  {
   "cell_type": "markdown",
   "metadata": {
    "pycharm": {
     "name": "#%% md\n"
    }
   },
   "source": [
    "analysis.run() will return True when it is ready. \n",
    "\n",
    "### Exploring the output\n",
    "\n",
    "We can now start to explore the output.\n",
    "\n",
    "We have a general description of the output"
   ]
  },
  {
   "cell_type": "code",
   "execution_count": null,
   "metadata": {
    "pycharm": {
     "name": "#%%\n"
    }
   },
   "outputs": [],
   "source": [
    "my_argolight_analysis.output.description"
   ]
  },
  {
   "cell_type": "markdown",
   "metadata": {
    "pycharm": {
     "name": "#%% md\n"
    }
   },
   "source": [
    "The output is organized as a dictionary of Outpur properties."
   ]
  },
  {
   "cell_type": "code",
   "execution_count": null,
   "metadata": {
    "pycharm": {
     "name": "#%%\n"
    }
   },
   "outputs": [],
   "source": [
    "print(my_argolight_analysis.output.describe_properties())"
   ]
  },
  {
   "cell_type": "markdown",
   "metadata": {
    "pycharm": {
     "name": "#%% md\n"
    }
   },
   "source": [
    "Now you have an idea of the different elements of the output. The type of output properties may be:\n",
    "- a comment\n",
    "- an image\n",
    "- a roi: a roi is a combimation of shapes, and shapes may be:\n",
    "    - a point\n",
    "    - a rectangle\n",
    "    - a line\n",
    "    - an ellipse\n",
    "    - and a polygon\n",
    "    - and, in the near future, a mask\n",
    "- a tag\n",
    "- a key-value pair\n",
    "- or a table"
   ]
  },
  {
   "cell_type": "markdown",
   "metadata": {
    "pycharm": {
     "name": "#%% md\n"
    }
   },
   "source": [
    "Let's have a look at the key-value annotations. Those are probably containing some of the measurements"
   ]
  },
  {
   "cell_type": "code",
   "execution_count": null,
   "metadata": {
    "pycharm": {
     "name": "#%%\n"
    }
   },
   "outputs": [],
   "source": [
    "my_argolight_analysis.output.properties[\"Key-Value Annotations\"].key_values"
   ]
  },
  {
   "cell_type": "code",
   "execution_count": null,
   "metadata": {
    "pycharm": {
     "name": "#%%\n"
    }
   },
   "outputs": [],
   "source": []
  }
 ],
 "metadata": {
  "kernelspec": {
   "display_name": "Python 3 (ipykernel)",
   "language": "python",
   "name": "python3"
  },
  "language_info": {
   "codemirror_mode": {
    "name": "ipython",
    "version": 3
   },
   "file_extension": ".py",
   "mimetype": "text/x-python",
   "name": "python",
   "nbconvert_exporter": "python",
   "pygments_lexer": "ipython3",
   "version": "3.9.14"
  },
  "pycharm": {
   "stem_cell": {
    "cell_type": "raw",
    "metadata": {
     "collapsed": false
    },
    "source": []
   }
  }
 },
 "nbformat": 4,
 "nbformat_minor": 1
}